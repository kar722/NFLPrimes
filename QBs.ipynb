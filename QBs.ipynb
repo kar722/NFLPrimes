{
 "cells": [
  {
   "cell_type": "code",
   "execution_count": 1,
   "id": "08d88275-14a5-411f-91e9-3ef46bc8a1b1",
   "metadata": {},
   "outputs": [],
   "source": [
    "import pandas as pd"
   ]
  },
  {
   "cell_type": "markdown",
   "id": "550e2525-51f4-46ab-a3cb-76d5a698cfa2",
   "metadata": {},
   "source": [
    "### Removing Unecessary Column"
   ]
  },
  {
   "cell_type": "code",
   "execution_count": 3,
   "id": "cf7e2311-ae46-4d31-a102-6a2fac4079d2",
   "metadata": {},
   "outputs": [],
   "source": [
    "df = pd.read_csv('csv_files/qb.csv')"
   ]
  },
  {
   "cell_type": "code",
   "execution_count": 4,
   "id": "8dde33e0-941e-44c2-9ee1-550130fd2d45",
   "metadata": {},
   "outputs": [],
   "source": [
    "df = df.iloc[:, :-1]"
   ]
  },
  {
   "cell_type": "code",
   "execution_count": 5,
   "id": "30513f40-f045-435b-9f7d-ac05dc9d9903",
   "metadata": {},
   "outputs": [],
   "source": [
    "df.to_csv('csv_files/qb.csv', index=False)"
   ]
  },
  {
   "cell_type": "markdown",
   "id": "8056f88f-f424-47ed-bb81-a91223a9e910",
   "metadata": {},
   "source": [
    "### Restructuring into New CSV file"
   ]
  },
  {
   "cell_type": "code",
   "execution_count": 6,
   "id": "c22444e9-5346-4957-ae7f-8a745a9f1c06",
   "metadata": {},
   "outputs": [],
   "source": [
    "min_age = df['Age'].min()"
   ]
  },
  {
   "cell_type": "code",
   "execution_count": 7,
   "id": "b233d344-bdd4-4979-872e-fe04e66dccf8",
   "metadata": {},
   "outputs": [
    {
     "data": {
      "text/plain": [
       "21"
      ]
     },
     "execution_count": 7,
     "metadata": {},
     "output_type": "execute_result"
    }
   ],
   "source": [
    "min_age"
   ]
  },
  {
   "cell_type": "code",
   "execution_count": 9,
   "id": "6f5fe25f-2820-4053-8e89-b604afd0592f",
   "metadata": {},
   "outputs": [],
   "source": [
    "max_age = df['Age'].max()"
   ]
  },
  {
   "cell_type": "code",
   "execution_count": 10,
   "id": "9cf90d15-5e4b-4d9b-9f58-af41e7142219",
   "metadata": {},
   "outputs": [
    {
     "data": {
      "text/plain": [
       "39"
      ]
     },
     "execution_count": 10,
     "metadata": {},
     "output_type": "execute_result"
    }
   ],
   "source": [
    "max_age"
   ]
  },
  {
   "cell_type": "code",
   "execution_count": 18,
   "id": "45d456da-00d1-427c-8b9c-9554852626d8",
   "metadata": {},
   "outputs": [],
   "source": [
    "players = df['Player'].unique()\n",
    "ages = list(range(21, 40))\n",
    "new_df = pd.DataFrame(columns=['Player'] + list(ages))"
   ]
  },
  {
   "cell_type": "code",
   "execution_count": 19,
   "id": "8110b63b-1d50-4753-a407-4fbb9c11e286",
   "metadata": {},
   "outputs": [],
   "source": [
    "new_df['Player'] = players"
   ]
  },
  {
   "cell_type": "code",
   "execution_count": 20,
   "id": "6062528a-7519-431b-8d16-2ee3cb4a36e7",
   "metadata": {},
   "outputs": [],
   "source": [
    "new_df.set_index('Player', inplace=True)"
   ]
  },
  {
   "cell_type": "code",
   "execution_count": 21,
   "id": "1d3c4e6e-2c10-43b5-bc33-c29b083209c4",
   "metadata": {},
   "outputs": [],
   "source": [
    "for player in players:\n",
    "    player_data = df[df['Player'] == player]\n",
    "    for _, row in player_data.iterrows():\n",
    "        age = row['Age']\n",
    "        av = row['AV']\n",
    "        new_df.at[player, age] = av\n",
    "\n",
    "new_df = new_df.fillna('N/A')"
   ]
  },
  {
   "cell_type": "code",
   "execution_count": 22,
   "id": "607761ce-5310-4a33-9593-dc9d42ad1139",
   "metadata": {},
   "outputs": [
    {
     "name": "stdout",
     "output_type": "stream",
     "text": [
      "                   21   22   23   24   25   26   27   28   29   30   31   32  \\\n",
      "Player                                                                         \n",
      "Derek Anderson    N/A  N/A  N/A   14    2   -4    4  N/A  N/A  N/A  N/A  N/A   \n",
      "Kyle Boller       N/A    3    6    3  N/A    4  N/A  N/A  N/A  N/A  N/A  N/A   \n",
      "Brooks Bollinger  N/A  N/A  N/A  N/A  N/A    5  N/A  N/A  N/A  N/A  N/A  N/A   \n",
      "Blake Bortles     N/A    5   14   10   13    6  N/A  N/A  N/A  N/A  N/A  N/A   \n",
      "Sam Bradford      N/A  N/A    9    3   10  N/A  N/A    8   11  N/A  N/A  N/A   \n",
      "...               ...  ...  ...  ...  ...  ...  ...  ...  ...  ...  ...  ...   \n",
      "Seneca Wallace    N/A  N/A  N/A  N/A  N/A    3    1    5    2    2  N/A  N/A   \n",
      "Andrew Walter     N/A  N/A  N/A    0  N/A  N/A  N/A  N/A  N/A  N/A  N/A  N/A   \n",
      "Joe Webb          N/A  N/A  N/A  N/A    2  N/A    0  N/A    0    0    0    0   \n",
      "Brandon Weeden    N/A  N/A  N/A  N/A  N/A  N/A  N/A  N/A    7    3  N/A  N/A   \n",
      "Vince Young       N/A  N/A    9    9  N/A    8    6  N/A  N/A  N/A  N/A  N/A   \n",
      "\n",
      "                   33   34   35   36   37   38   39  \n",
      "Player                                               \n",
      "Derek Anderson    N/A  N/A  N/A  N/A  N/A  N/A  N/A  \n",
      "Kyle Boller       N/A  N/A  N/A  N/A  N/A  N/A  N/A  \n",
      "Brooks Bollinger  N/A  N/A  N/A  N/A  N/A  N/A  N/A  \n",
      "Blake Bortles     N/A  N/A  N/A  N/A  N/A  N/A  N/A  \n",
      "Sam Bradford      N/A  N/A  N/A  N/A  N/A  N/A  N/A  \n",
      "...               ...  ...  ...  ...  ...  ...  ...  \n",
      "Seneca Wallace    N/A  N/A  N/A  N/A  N/A  N/A  N/A  \n",
      "Andrew Walter     N/A  N/A  N/A  N/A  N/A  N/A  N/A  \n",
      "Joe Webb          N/A  N/A  N/A  N/A  N/A  N/A  N/A  \n",
      "Brandon Weeden    N/A  N/A  N/A  N/A  N/A  N/A  N/A  \n",
      "Vince Young       N/A  N/A  N/A  N/A  N/A  N/A  N/A  \n",
      "\n",
      "[74 rows x 19 columns]\n"
     ]
    }
   ],
   "source": [
    "print(new_df)"
   ]
  },
  {
   "cell_type": "code",
   "execution_count": 33,
   "id": "083f6207-56bc-4bd0-8de7-61d11c8bf06d",
   "metadata": {},
   "outputs": [],
   "source": [
    "new_df.to_csv('csv_files/new_qb.csv')"
   ]
  },
  {
   "cell_type": "code",
   "execution_count": 38,
   "id": "86eb3990-bb7e-4c0f-afd0-9b8fdf70d5d7",
   "metadata": {},
   "outputs": [],
   "source": [
    "df = pd.read_csv('csv_files/new_qb.csv')"
   ]
  },
  {
   "cell_type": "markdown",
   "id": "40759f54-c708-41f8-8606-b095971a0d3e",
   "metadata": {},
   "source": [
    "### Only Including Players w/ 3 Consecutive Years of AVs"
   ]
  },
  {
   "cell_type": "code",
   "execution_count": 39,
   "id": "546ea2ac-f358-4de6-958a-2047e4b63c67",
   "metadata": {},
   "outputs": [],
   "source": [
    "df.set_index('Player', inplace=True)"
   ]
  },
  {
   "cell_type": "code",
   "execution_count": 40,
   "id": "745259b3-a0e6-4c5a-a24e-0f08647a081f",
   "metadata": {},
   "outputs": [],
   "source": [
    "filtered_df = df.dropna(thresh=3)"
   ]
  },
  {
   "cell_type": "code",
   "execution_count": 41,
   "id": "42ec307a-eae5-4928-99e7-57ee8902aed9",
   "metadata": {},
   "outputs": [],
   "source": [
    "filtered_df.reset_index(inplace=True)"
   ]
  },
  {
   "cell_type": "code",
   "execution_count": 43,
   "id": "5f49b837-f7eb-41e3-88e2-5f528456f43d",
   "metadata": {},
   "outputs": [],
   "source": [
    "filtered_df.to_csv('csv_files/filtered_qb.csv', index=False)"
   ]
  },
  {
   "cell_type": "code",
   "execution_count": 45,
   "id": "65db9753-3a5e-4f7e-a3eb-c9c429994ad6",
   "metadata": {},
   "outputs": [],
   "source": [
    "df = pd.read_csv('csv_files/new_qb.csv')\n",
    "\n",
    "df.set_index('Player', inplace=True)"
   ]
  },
  {
   "cell_type": "code",
   "execution_count": 46,
   "id": "79fa5a11-190a-4aad-bbf3-bb34b6bf2894",
   "metadata": {},
   "outputs": [],
   "source": [
    "def has_consecutive_av(player_av):\n",
    "    consecutive_count = 0\n",
    "    for av in player_av:\n",
    "        if not pd.isna(av):\n",
    "            consecutive_count += 1\n",
    "            if consecutive_count == 3:\n",
    "                return True\n",
    "        else:\n",
    "            consecutive_count = 0\n",
    "    return False"
   ]
  },
  {
   "cell_type": "code",
   "execution_count": 47,
   "id": "e79ec1fa-0f6e-4b9b-8330-4454f25373f7",
   "metadata": {},
   "outputs": [],
   "source": [
    "players_with_consecutive_av = df[df.apply(has_consecutive_av, axis=1)]\n",
    "players_with_consecutive_av.reset_index(inplace=True)"
   ]
  },
  {
   "cell_type": "code",
   "execution_count": 49,
   "id": "7fbb9e5f-67d9-4db9-ad9f-245c75544618",
   "metadata": {},
   "outputs": [],
   "source": [
    "players_with_consecutive_av.to_csv('csv_files/final_qb.csv', index=False)"
   ]
  },
  {
   "cell_type": "markdown",
   "id": "663e7218-12c4-4976-896f-0e9990308dfa",
   "metadata": {},
   "source": [
    "### Prime Age of QB\n",
    "- Finding the three year stretch where each player has the highest average AV.\n",
    "- Finding the average age (the middle age) of that player during that three year stretch.\n",
    "- That will be their \"prime\" playing age."
   ]
  },
  {
   "cell_type": "code",
   "execution_count": 2,
   "id": "bc928576-1155-48c4-b999-cffbe4fbffb0",
   "metadata": {},
   "outputs": [],
   "source": [
    "df = pd.read_csv('csv_files/final_qb.csv')\n",
    "df.set_index('Player', inplace=True)"
   ]
  },
  {
   "cell_type": "code",
   "execution_count": 3,
   "id": "52f5571a-80eb-4df9-a706-2108a4ff02e2",
   "metadata": {},
   "outputs": [],
   "source": [
    "def calculate_average_av(player_av):\n",
    "    max_avg_av = 0\n",
    "    prime_age = None\n",
    "    for i in range(len(player_av) - 2):\n",
    "        three_year_avg = sum(player_av[i:i+3]) / 3\n",
    "        if three_year_avg > max_avg_av:\n",
    "            max_avg_av = three_year_avg\n",
    "            prime_age = i + 22  # Adding 22 to get the actual age\n",
    "\n",
    "    return prime_age"
   ]
  },
  {
   "cell_type": "code",
   "execution_count": 4,
   "id": "fe952845-868e-42d8-8a94-4cf3622a08ee",
   "metadata": {},
   "outputs": [],
   "source": [
    "prime_ages = []"
   ]
  },
  {
   "cell_type": "code",
   "execution_count": 5,
   "id": "8099ed57-d73a-4d71-afec-14c942bb0eb6",
   "metadata": {},
   "outputs": [],
   "source": [
    "for player in df.index:\n",
    "    player_av = df.loc[player, '21':'39'].tolist()\n",
    "    prime_age = calculate_average_av(player_av)\n",
    "    prime_ages.append({'Player': player, 'Prime Age': prime_age})"
   ]
  },
  {
   "cell_type": "code",
   "execution_count": 6,
   "id": "031c0e61-437c-4034-a964-7b8ee8c9600e",
   "metadata": {},
   "outputs": [],
   "source": [
    "prime_age_df = pd.DataFrame(prime_ages)"
   ]
  },
  {
   "cell_type": "code",
   "execution_count": 7,
   "id": "50b118aa-8c38-406a-9dc7-fe9f60c0461d",
   "metadata": {},
   "outputs": [],
   "source": [
    "prime_age_df.to_csv('csv_files/prime_ages_qb.csv', index=False)"
   ]
  },
  {
   "cell_type": "code",
   "execution_count": 8,
   "id": "f25db212-6cfc-493a-92ef-3b27a086b0dd",
   "metadata": {},
   "outputs": [],
   "source": [
    "# Remove Joe Webb (AVs were all 0)\n",
    "prime_ages_df = pd.read_csv('csv_files/prime_ages_qb.csv')\n",
    "prime_ages_df = prime_ages_df.iloc[:-1]\n",
    "prime_ages_df.to_csv('csv_files/prime_ages_qb.csv', index=False)"
   ]
  },
  {
   "cell_type": "code",
   "execution_count": 9,
   "id": "3d16b5c5-0ac0-4f6b-8b4a-9ceca863d982",
   "metadata": {},
   "outputs": [],
   "source": [
    "average_prime_age = prime_ages_df['Prime Age'].mean()"
   ]
  },
  {
   "cell_type": "code",
   "execution_count": 10,
   "id": "02b7206e-35b6-4f0a-b9a6-f72dc4d99f72",
   "metadata": {},
   "outputs": [
    {
     "data": {
      "text/plain": [
       "26.424242424242426"
      ]
     },
     "execution_count": 10,
     "metadata": {},
     "output_type": "execute_result"
    }
   ],
   "source": [
    "average_prime_age"
   ]
  },
  {
   "cell_type": "code",
   "execution_count": null,
   "id": "5e7e79c8-3a86-4b2c-8d63-8832b3abe6c4",
   "metadata": {},
   "outputs": [],
   "source": []
  }
 ],
 "metadata": {
  "kernelspec": {
   "display_name": "Python 3 (ipykernel)",
   "language": "python",
   "name": "python3"
  },
  "language_info": {
   "codemirror_mode": {
    "name": "ipython",
    "version": 3
   },
   "file_extension": ".py",
   "mimetype": "text/x-python",
   "name": "python",
   "nbconvert_exporter": "python",
   "pygments_lexer": "ipython3",
   "version": "3.9.12"
  }
 },
 "nbformat": 4,
 "nbformat_minor": 5
}
