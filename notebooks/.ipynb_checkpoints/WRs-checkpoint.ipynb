{
 "cells": [
  {
   "cell_type": "code",
   "execution_count": 1,
   "id": "be1b9a39-0711-4487-a8cf-58326dad7666",
   "metadata": {},
   "outputs": [],
   "source": [
    "import pandas as pd"
   ]
  },
  {
   "cell_type": "markdown",
   "id": "45dfcaa5-63a0-43ce-b81a-a29c141b1c63",
   "metadata": {},
   "source": [
    "### Removing Unecessary Column"
   ]
  },
  {
   "cell_type": "code",
   "execution_count": 2,
   "id": "941b42ff-9c2e-4b72-a074-1e019be1f707",
   "metadata": {},
   "outputs": [],
   "source": [
    "df = pd.read_csv('csv_files/wr.csv')\n",
    "df = df.iloc[:, :-1]\n",
    "df.to_csv('csv_files/wr.csv', index=False)"
   ]
  },
  {
   "cell_type": "markdown",
   "id": "4a2bae7e-befb-432f-a6f3-181b95118c9d",
   "metadata": {},
   "source": [
    "### Restructing into New CSV File"
   ]
  },
  {
   "cell_type": "code",
   "execution_count": 3,
   "id": "2a867d06-4059-47c7-932d-439aa3ace41a",
   "metadata": {},
   "outputs": [
    {
     "data": {
      "text/plain": [
       "21"
      ]
     },
     "execution_count": 3,
     "metadata": {},
     "output_type": "execute_result"
    }
   ],
   "source": [
    "min_age = df['Age'].min()\n",
    "min_age"
   ]
  },
  {
   "cell_type": "code",
   "execution_count": 4,
   "id": "dbef54e9-3ec4-4f61-8f22-833f0b1c9794",
   "metadata": {},
   "outputs": [
    {
     "data": {
      "text/plain": [
       "37"
      ]
     },
     "execution_count": 4,
     "metadata": {},
     "output_type": "execute_result"
    }
   ],
   "source": [
    "max_age = df['Age'].max()\n",
    "max_age"
   ]
  },
  {
   "cell_type": "code",
   "execution_count": 5,
   "id": "ac1361e2-66ed-4879-8b5e-89e7a7dd029b",
   "metadata": {},
   "outputs": [
    {
     "name": "stdout",
     "output_type": "stream",
     "text": [
      "                      21   22   23   24   25   26   27   28   29   30   31  \\\n",
      "Player                                                                       \n",
      "Jared Abbrederis     N/A  N/A  N/A  N/A    1  N/A  N/A  N/A  N/A  N/A  N/A   \n",
      "Sam Aiken            N/A  N/A  N/A    2    1  N/A  N/A    1    3  N/A  N/A   \n",
      "Aundrae Allison        2    1  N/A  N/A  N/A  N/A  N/A  N/A  N/A  N/A  N/A   \n",
      "David Anderson       N/A  N/A  N/A    1    2  N/A    1  N/A  N/A  N/A  N/A   \n",
      "JJ Arcega-Whiteside  N/A    1  N/A    1  N/A  N/A  N/A  N/A  N/A  N/A  N/A   \n",
      "...                  ...  ...  ...  ...  ...  ...  ...  ...  ...  ...  ...   \n",
      "Rashaun Woods        N/A  N/A  N/A    1  N/A  N/A  N/A  N/A  N/A  N/A  N/A   \n",
      "James Wright         N/A  N/A    1  N/A    1  N/A  N/A  N/A  N/A  N/A  N/A   \n",
      "Jarius Wright        N/A  N/A  N/A    4    5    5    1    2    4    2  N/A   \n",
      "Kendall Wright       N/A  N/A    5    9    5    3    4    5  N/A  N/A  N/A   \n",
      "Titus Young          N/A    5    3  N/A  N/A  N/A  N/A  N/A  N/A  N/A  N/A   \n",
      "\n",
      "                      32   33   34   35   36   37  \n",
      "Player                                             \n",
      "Jared Abbrederis     N/A  N/A  N/A  N/A  N/A  N/A  \n",
      "Sam Aiken            N/A  N/A  N/A  N/A  N/A  N/A  \n",
      "Aundrae Allison      N/A  N/A  N/A  N/A  N/A  N/A  \n",
      "David Anderson       N/A  N/A  N/A  N/A  N/A  N/A  \n",
      "JJ Arcega-Whiteside  N/A  N/A  N/A  N/A  N/A  N/A  \n",
      "...                  ...  ...  ...  ...  ...  ...  \n",
      "Rashaun Woods        N/A  N/A  N/A  N/A  N/A  N/A  \n",
      "James Wright         N/A  N/A  N/A  N/A  N/A  N/A  \n",
      "Jarius Wright        N/A  N/A  N/A  N/A  N/A  N/A  \n",
      "Kendall Wright       N/A  N/A  N/A  N/A  N/A  N/A  \n",
      "Titus Young          N/A  N/A  N/A  N/A  N/A  N/A  \n",
      "\n",
      "[345 rows x 17 columns]\n"
     ]
    }
   ],
   "source": [
    "players = df['Player'].unique()\n",
    "ages = list(range(21, 38))\n",
    "new_df = pd.DataFrame(columns=['Player'] + list(ages))\n",
    "new_df['Player'] = players\n",
    "new_df.set_index('Player', inplace=True)\n",
    "\n",
    "for player in players:\n",
    "    player_data = df[df['Player'] == player]\n",
    "    for _, row in player_data.iterrows():\n",
    "        age = row['Age']\n",
    "        av = row['AV']\n",
    "        new_df.at[player, age] = av\n",
    "\n",
    "new_df = new_df.fillna('N/A')\n",
    "\n",
    "print(new_df)"
   ]
  },
  {
   "cell_type": "code",
   "execution_count": 6,
   "id": "7936be42-781b-46ed-bf30-020c3f7c0e81",
   "metadata": {},
   "outputs": [],
   "source": [
    "new_df.to_csv('csv_files/new_wr.csv')\n",
    "df = pd.read_csv('csv_files/new_wr.csv')"
   ]
  },
  {
   "cell_type": "markdown",
   "id": "404c9786-be71-42d9-b579-bbd80bc613f2",
   "metadata": {},
   "source": [
    "### Only Including Players w/ 3 Consecutive Years of AVs"
   ]
  },
  {
   "cell_type": "code",
   "execution_count": 7,
   "id": "b4ac97ef-dc89-4f1e-9feb-cb34ea0dc49d",
   "metadata": {},
   "outputs": [],
   "source": [
    "df.set_index('Player', inplace=True)\n",
    "filtered_df = df.dropna(thresh=3)\n",
    "filtered_df.reset_index(inplace=True)\n",
    "filtered_df.to_csv('csv_files/filtered_wr.csv', index=False)\n",
    "\n",
    "df = pd.read_csv('csv_files/new_wr.csv')\n",
    "\n",
    "df.set_index('Player', inplace=True)\n",
    "\n",
    "def has_consecutive_av(player_av):\n",
    "    consecutive_count = 0\n",
    "    for av in player_av:\n",
    "        if not pd.isna(av):\n",
    "            consecutive_count += 1\n",
    "            if consecutive_count == 3:\n",
    "                return True\n",
    "        else:\n",
    "            consecutive_count = 0\n",
    "    return False\n",
    "\n",
    "players_with_consecutive_av = df[df.apply(has_consecutive_av, axis=1)]\n",
    "players_with_consecutive_av.reset_index(inplace=True)\n",
    "\n",
    "players_with_consecutive_av.to_csv('csv_files/final_wr.csv', index=False)"
   ]
  },
  {
   "cell_type": "markdown",
   "id": "2e9b99ac-d33c-4245-bed1-a0a9df0b715d",
   "metadata": {},
   "source": [
    "### Prime Age of WR\n",
    "- Finding the three year stretch where each player has the highest average AV.\n",
    "- Finding the average age (the middle age) of that player during that three year stretch.\n",
    "- That will be their \"prime\" playing age."
   ]
  },
  {
   "cell_type": "code",
   "execution_count": 8,
   "id": "738db1af-54f2-4cae-a6c1-bf8437191d41",
   "metadata": {},
   "outputs": [],
   "source": [
    "df = pd.read_csv('csv_files/final_wr.csv')\n",
    "df.set_index('Player', inplace=True)\n",
    "\n",
    "def calculate_average_av(player_av):\n",
    "    max_avg_av = 0\n",
    "    prime_age = None\n",
    "    for i in range(len(player_av) - 2):\n",
    "        three_year_avg = sum(player_av[i:i+3]) / 3\n",
    "        if three_year_avg > max_avg_av:\n",
    "            max_avg_av = three_year_avg\n",
    "            prime_age = i + 22  # Adding 22 to get the actual age\n",
    "\n",
    "    return prime_age\n",
    "\n",
    "prime_ages = []\n",
    "for player in df.index:\n",
    "    player_av = df.loc[player, '21':'37'].tolist()\n",
    "    prime_age = calculate_average_av(player_av)\n",
    "    prime_ages.append({'Player': player, 'Prime Age': prime_age})\n",
    "    \n",
    "prime_age_df = pd.DataFrame(prime_ages)\n",
    "prime_age_df.to_csv('csv_files/prime_ages_wr.csv', index=False)\n",
    "\n",
    "prime_ages_df = pd.read_csv('csv_files/prime_ages_wr.csv')\n",
    "prime_ages_df = prime_ages_df.iloc[:-1]\n",
    "prime_ages_df.to_csv('csv_files/prime_ages_wr.csv', index=False)\n",
    "\n",
    "average_prime_age = prime_ages_df['Prime Age'].mean()"
   ]
  },
  {
   "cell_type": "code",
   "execution_count": 9,
   "id": "6b99e6b0-e3e2-488b-a2dc-e94a00c968d8",
   "metadata": {},
   "outputs": [
    {
     "data": {
      "text/plain": [
       "25.317073170731707"
      ]
     },
     "execution_count": 9,
     "metadata": {},
     "output_type": "execute_result"
    }
   ],
   "source": [
    "average_prime_age"
   ]
  },
  {
   "cell_type": "code",
   "execution_count": 1,
   "id": "69127b1a-f6fa-47c7-b8e1-dc443d0e91c6",
   "metadata": {},
   "outputs": [
    {
     "data": {
      "image/png": "[encoded data removed]",
      "text/plain": [
       "<Figure size 720x432 with 1 Axes>"
      ]
     },
     "metadata": {
      "needs_background": "light"
     },
     "output_type": "display_data"
    }
   ],
   "source": [
    "import pandas as pd\n",
    "import seaborn as sns\n",
    "import matplotlib.pyplot as plt\n",
    "\n",
    "# Read the CSV file\n",
    "df = pd.read_csv('C:\\\\Users\\\\karth\\\\Documents\\\\vscode\\\\NFLPrimes\\\\csv_files\\\\wr\\\\final_wr.csv')\n",
    "\n",
    "# Set 'Player' column as the index\n",
    "df.set_index('Player', inplace=True)\n",
    "\n",
    "# Initialize a dictionary to store the sum and count for each age\n",
    "age_av = {}\n",
    "\n",
    "# Iterate through the columns (ages)\n",
    "for age in df.columns:\n",
    "    # Filter out 0 values and calculate the average\n",
    "    filtered_av = df[df[age] != 0][age]\n",
    "    if not filtered_av.empty:\n",
    "        age_av[age] = {'Sum': filtered_av.sum(), 'Count': len(filtered_av)}\n",
    "\n",
    "# Calculate the average AV for each age\n",
    "ages = []\n",
    "average_avs = []\n",
    "for age, data in age_av.items():\n",
    "    average_av = data['Sum'] / data['Count']\n",
    "    ages.append(int(age))  # Convert age to integer for plotting\n",
    "    average_avs.append(average_av)\n",
    "\n",
    "# Create a DataFrame for plotting\n",
    "avg_av_df = pd.DataFrame({'Age': ages, 'Average AV': average_avs})\n",
    "\n",
    "# Create the line plot using seaborn\n",
    "plt.figure(figsize=(10, 6))\n",
    "sns.lineplot(x='Age', y='Average AV', data=avg_av_df)\n",
    "plt.title('Average AV by Age for WRs')\n",
    "plt.xlabel('Age')\n",
    "plt.ylabel('Average AV Score')\n",
    "plt.show()"
   ]
  },
  {
   "cell_type": "code",
   "execution_count": null,
   "id": "44dd7405-576d-418a-8878-0f5b00e49518",
   "metadata": {},
   "outputs": [],
   "source": []
  }
 ],
 "metadata": {
  "kernelspec": {
   "display_name": "Python 3 (ipykernel)",
   "language": "python",
   "name": "python3"
  },
  "language_info": {
   "codemirror_mode": {
    "name": "ipython",
    "version": 3
   },
   "file_extension": ".py",
   "mimetype": "text/x-python",
   "name": "python",
   "nbconvert_exporter": "python",
   "pygments_lexer": "ipython3",
   "version": "3.9.12"
  }
 },
 "nbformat": 4,
 "nbformat_minor": 5
}
