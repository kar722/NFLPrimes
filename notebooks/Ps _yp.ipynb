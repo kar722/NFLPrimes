{
 "cells": [
  {
   "cell_type": "code",
   "execution_count": 1,
   "id": "be1b9a39-0711-4487-a8cf-58326dad7666",
   "metadata": {},
   "outputs": [],
   "source": [
    "import pandas as pd"
   ]
  },
  {
   "cell_type": "markdown",
   "id": "45dfcaa5-63a0-43ce-b81a-a29c141b1c63",
   "metadata": {},
   "source": [
    "### Removing Unecessary Column"
   ]
  },
  {
   "cell_type": "code",
   "execution_count": 4,
   "id": "941b42ff-9c2e-4b72-a074-1e019be1f707",
   "metadata": {},
   "outputs": [],
   "source": [
    "df = pd.read_csv('C:/Users/karth/Documents/vscode/NFLPrimes/csv_files/p/p_yp.csv')"
   ]
  },
  {
   "cell_type": "markdown",
   "id": "4a2bae7e-befb-432f-a6f3-181b95118c9d",
   "metadata": {},
   "source": [
    "### Restructing into New CSV File"
   ]
  },
  {
   "cell_type": "code",
   "execution_count": 5,
   "id": "2a867d06-4059-47c7-932d-439aa3ace41a",
   "metadata": {},
   "outputs": [
    {
     "data": {
      "text/plain": [
       "22"
      ]
     },
     "execution_count": 5,
     "metadata": {},
     "output_type": "execute_result"
    }
   ],
   "source": [
    "min_age = df['Age'].min()\n",
    "min_age"
   ]
  },
  {
   "cell_type": "code",
   "execution_count": 6,
   "id": "dbef54e9-3ec4-4f61-8f22-833f0b1c9794",
   "metadata": {},
   "outputs": [
    {
     "data": {
      "text/plain": [
       "40"
      ]
     },
     "execution_count": 6,
     "metadata": {},
     "output_type": "execute_result"
    }
   ],
   "source": [
    "max_age = df['Age'].max()\n",
    "max_age"
   ]
  },
  {
   "cell_type": "code",
   "execution_count": 7,
   "id": "ac1361e2-66ed-4879-8b5e-89e7a7dd029b",
   "metadata": {},
   "outputs": [
    {
     "name": "stdout",
     "output_type": "stream",
     "text": [
      "                       22    23    24    25    26    27    28    29    30  \\\n",
      "Player                                                                      \n",
      "Dustin Colquitt       N/A  39.4  44.3  45.5  44.4  45.4  44.4  45.9  46.8   \n",
      "Matt Dodge            N/A  44.8   N/A   N/A   N/A   N/A   N/A   N/A   N/A   \n",
      "Lac Edwards           N/A   N/A  43.1  46.6  45.9  45.9   N/A  47.9   N/A   \n",
      "Brandon Fields        N/A  43.2  43.9  46.3  46.2  48.8  50.2  48.8  46.3   \n",
      "Reggie Hodges         N/A  37.4   N/A   N/A  42.8  39.7  43.9   N/A  41.8   \n",
      "Sterling Hofrichter   N/A   N/A  42.5   N/A   N/A   N/A   N/A   N/A   N/A   \n",
      "Kevin Huber           N/A   N/A  43.2  42.1  44.2  46.6  45.2  46.8  45.8   \n",
      "Eddie Johnson        39.1   N/A   N/A   N/A   N/A   N/A   N/A   N/A   N/A   \n",
      "Donnie Jones          N/A   N/A   N/A  43.5  42.8  47.2  50.0  46.8  45.5   \n",
      "Drew Kaser            N/A  46.3  48.1   N/A   N/A   N/A   N/A   N/A   N/A   \n",
      "Sam Koch              N/A   N/A  43.0  43.6  45.0  43.7  43.6  46.5  47.1   \n",
      "Andy Lee             41.6  41.6  44.8  47.3  47.8  47.6  46.2  50.9  48.1   \n",
      "Jeff Locke            N/A   N/A  44.2  44.2  41.6  42.6   N/A   N/A   N/A   \n",
      "Zoltan Mesko          N/A   N/A  43.2  46.5  43.1   N/A   N/A   N/A   N/A   \n",
      "Brad Nortman          N/A  43.0  47.8  44.9  45.4  46.6  44.1   N/A   N/A   \n",
      "Pat O'Donnell         N/A  43.8  44.2  44.0  47.0  45.0  44.8  45.7  46.2   \n",
      "Ryan Plackemeier     45.0  40.0  41.5   N/A   N/A   N/A   N/A   N/A   N/A   \n",
      "Adam Podlesh          N/A   N/A  41.6  43.2  41.9  43.8  43.9  42.0  40.6   \n",
      "B.J. Sander           N/A   N/A   N/A  39.2   N/A   N/A   N/A   N/A   N/A   \n",
      "Mike Scifres          N/A   N/A  43.1  43.7  41.9  46.1  45.7  45.0  46.7   \n",
      "Daniel Sepulveda      N/A  42.4   N/A  42.7  45.5  46.1   N/A   N/A   N/A   \n",
      "Johnny Townsend       N/A  43.2   N/A   N/A   N/A   N/A   N/A   N/A   N/A   \n",
      "Dave Zastudil         N/A   N/A  41.6  41.0  40.4  43.5  44.0  41.8  45.5   \n",
      "\n",
      "                       31    32    33    34    35    36    37    38    39  \\\n",
      "Player                                                                      \n",
      "Dustin Colquitt      46.0  44.6  44.4  45.1  45.2  44.9  44.3   N/A  44.5   \n",
      "Matt Dodge            N/A   N/A   N/A   N/A   N/A   N/A   N/A   N/A   N/A   \n",
      "Lac Edwards           N/A   N/A   N/A   N/A   N/A   N/A   N/A   N/A   N/A   \n",
      "Brandon Fields        N/A   N/A   N/A   N/A   N/A   N/A   N/A   N/A   N/A   \n",
      "Reggie Hodges         N/A   N/A   N/A   N/A   N/A   N/A   N/A   N/A   N/A   \n",
      "Sterling Hofrichter   N/A   N/A   N/A   N/A   N/A   N/A   N/A   N/A   N/A   \n",
      "Kevin Huber          46.3  46.6  43.9  45.3  47.2  46.4  43.2   N/A   N/A   \n",
      "Eddie Johnson         N/A   N/A   N/A   N/A   N/A   N/A   N/A   N/A   N/A   \n",
      "Donnie Jones         44.3  47.2  44.9  43.8  47.0  45.8  45.3  42.3   N/A   \n",
      "Drew Kaser            N/A   N/A   N/A   N/A   N/A   N/A   N/A   N/A   N/A   \n",
      "Sam Koch             46.0  47.4  46.7  45.8  44.8  47.4  46.4  44.5  44.4   \n",
      "Andy Lee             48.2  46.8  46.7  49.1  47.3  48.6  47.8  44.8  49.0   \n",
      "Jeff Locke            N/A   N/A   N/A   N/A   N/A   N/A   N/A   N/A   N/A   \n",
      "Zoltan Mesko          N/A   N/A   N/A   N/A   N/A   N/A   N/A   N/A   N/A   \n",
      "Brad Nortman          N/A   N/A   N/A   N/A   N/A   N/A   N/A   N/A   N/A   \n",
      "Pat O'Donnell        44.5   N/A   N/A   N/A   N/A   N/A   N/A   N/A   N/A   \n",
      "Ryan Plackemeier      N/A   N/A   N/A   N/A   N/A   N/A   N/A   N/A   N/A   \n",
      "Adam Podlesh          N/A   N/A   N/A   N/A   N/A   N/A   N/A   N/A   N/A   \n",
      "B.J. Sander           N/A   N/A   N/A   N/A   N/A   N/A   N/A   N/A   N/A   \n",
      "Mike Scifres         47.5  48.3  43.2  45.7  45.3   N/A   N/A   N/A   N/A   \n",
      "Daniel Sepulveda      N/A   N/A   N/A   N/A   N/A   N/A   N/A   N/A   N/A   \n",
      "Johnny Townsend       N/A   N/A   N/A   N/A   N/A   N/A   N/A   N/A   N/A   \n",
      "Dave Zastudil        44.7   N/A  45.2  46.5  45.7   N/A   N/A   N/A   N/A   \n",
      "\n",
      "                       40  \n",
      "Player                     \n",
      "Dustin Colquitt       N/A  \n",
      "Matt Dodge            N/A  \n",
      "Lac Edwards           N/A  \n",
      "Brandon Fields        N/A  \n",
      "Reggie Hodges         N/A  \n",
      "Sterling Hofrichter   N/A  \n",
      "Kevin Huber           N/A  \n",
      "Eddie Johnson         N/A  \n",
      "Donnie Jones          N/A  \n",
      "Drew Kaser            N/A  \n",
      "Sam Koch              N/A  \n",
      "Andy Lee             47.1  \n",
      "Jeff Locke            N/A  \n",
      "Zoltan Mesko          N/A  \n",
      "Brad Nortman          N/A  \n",
      "Pat O'Donnell         N/A  \n",
      "Ryan Plackemeier      N/A  \n",
      "Adam Podlesh          N/A  \n",
      "B.J. Sander           N/A  \n",
      "Mike Scifres          N/A  \n",
      "Daniel Sepulveda      N/A  \n",
      "Johnny Townsend       N/A  \n",
      "Dave Zastudil         N/A  \n"
     ]
    }
   ],
   "source": [
    "players = df['Player'].unique()\n",
    "ages = list(range(22, 41))\n",
    "new_df = pd.DataFrame(columns=['Player'] + list(ages))\n",
    "new_df['Player'] = players\n",
    "new_df.set_index('Player', inplace=True)\n",
    "\n",
    "for player in players:\n",
    "    player_data = df[df['Player'] == player]\n",
    "    for _, row in player_data.iterrows():\n",
    "        age = row['Age']\n",
    "        yp = row['Y/P']\n",
    "        new_df.at[player, age] = yp\n",
    "\n",
    "new_df = new_df.fillna('N/A')\n",
    "\n",
    "print(new_df)"
   ]
  },
  {
   "cell_type": "code",
   "execution_count": 8,
   "id": "7936be42-781b-46ed-bf30-020c3f7c0e81",
   "metadata": {},
   "outputs": [],
   "source": [
    "new_df.to_csv('C:/Users/karth/Documents/vscode/NFLPrimes/csv_files/p/new_p_yp.csv')\n",
    "df = pd.read_csv('C:/Users/karth/Documents/vscode/NFLPrimes/csv_files/p/new_p_yp.csv')"
   ]
  },
  {
   "cell_type": "markdown",
   "id": "404c9786-be71-42d9-b579-bbd80bc613f2",
   "metadata": {},
   "source": [
    "### Only Including Players w/ 3 Consecutive Years of Y/Ps"
   ]
  },
  {
   "cell_type": "code",
   "execution_count": 9,
   "id": "b4ac97ef-dc89-4f1e-9feb-cb34ea0dc49d",
   "metadata": {},
   "outputs": [],
   "source": [
    "df.set_index('Player', inplace=True)\n",
    "filtered_df = df.dropna(thresh=3)\n",
    "filtered_df.reset_index(inplace=True)\n",
    "filtered_df.to_csv('C:/Users/karth/Documents/vscode/NFLPrimes/csv_files/p/filtered_p_yp.csv', index=False)\n",
    "\n",
    "df = pd.read_csv('C:/Users/karth/Documents/vscode/NFLPrimes/csv_files/p/new_p_yp.csv')\n",
    "\n",
    "df.set_index('Player', inplace=True)\n",
    "\n",
    "def has_consecutive_yp(player_yp):\n",
    "    consecutive_count = 0\n",
    "    for yp in player_yp:\n",
    "        if not pd.isna(yp):\n",
    "            consecutive_count += 1\n",
    "            if consecutive_count == 3:\n",
    "                return True\n",
    "        else:\n",
    "            consecutive_count = 0\n",
    "    return False\n",
    "\n",
    "players_with_consecutive_yp = df[df.apply(has_consecutive_yp, axis=1)]\n",
    "players_with_consecutive_yp.reset_index(inplace=True)\n",
    "\n",
    "players_with_consecutive_yp.to_csv('C:/Users/karth/Documents/vscode/NFLPrimes/csv_files/p/final_p_yp.csv', index=False)"
   ]
  },
  {
   "cell_type": "markdown",
   "id": "2e9b99ac-d33c-4245-bed1-a0a9df0b715d",
   "metadata": {},
   "source": [
    "### Prime Age of P\n",
    "- Finding the three year stretch where each player has the highest average Y/P.\n",
    "- Finding the average age (the middle age) of that player during that three year stretch.\n",
    "- That will be their \"prime\" playing age."
   ]
  },
  {
   "cell_type": "code",
   "execution_count": 10,
   "id": "738db1af-54f2-4cae-a6c1-bf8437191d41",
   "metadata": {},
   "outputs": [],
   "source": [
    "df = pd.read_csv('C:/Users/karth/Documents/vscode/NFLPrimes/csv_files/p/final_p_yp.csv')\n",
    "df.set_index('Player', inplace=True)\n",
    "\n",
    "def calculate_average_yp(player_yp):\n",
    "    max_avg_yp = 0\n",
    "    prime_age = None\n",
    "    for i in range(len(player_yp) - 2):\n",
    "        three_year_avg = sum(player_yp[i:i+3]) / 3\n",
    "        if three_year_avg > max_avg_yp:\n",
    "            max_avg_yp = three_year_avg\n",
    "            prime_age = i + 22  # Adding 22 to get the actual age\n",
    "\n",
    "    return prime_age\n",
    "\n",
    "prime_ages = []\n",
    "for player in df.index:\n",
    "    player_yp = df.loc[player, '22':'40'].tolist()\n",
    "    prime_age = calculate_average_yp(player_yp)\n",
    "    prime_ages.append({'Player': player, 'Prime Age': prime_age})\n",
    "    \n",
    "prime_age_df = pd.DataFrame(prime_ages)\n",
    "prime_age_df.to_csv('C:/Users/karth/Documents/vscode/NFLPrimes/csv_files/p/prime_ages_p_yp.csv', index=False)\n",
    "\n",
    "prime_ages_df = pd.read_csv('C:/Users/karth/Documents/vscode/NFLPrimes/csv_files/p/prime_ages_p_yp.csv')\n",
    "prime_ages_df = prime_ages_df.iloc[:-1]\n",
    "prime_ages_df.to_csv('C:/Users/karth/Documents/vscode/NFLPrimes/csv_files/p/prime_ages_p_yp.csv', index=False)\n",
    "\n",
    "average_prime_age = prime_ages_df['Prime Age'].mean()"
   ]
  },
  {
   "cell_type": "code",
   "execution_count": 11,
   "id": "6b99e6b0-e3e2-488b-a2dc-e94a00c968d8",
   "metadata": {},
   "outputs": [
    {
     "data": {
      "text/plain": [
       "26.8125"
      ]
     },
     "execution_count": 11,
     "metadata": {},
     "output_type": "execute_result"
    }
   ],
   "source": [
    "average_prime_age"
   ]
  }
 ],
 "metadata": {
  "kernelspec": {
   "display_name": "Python 3 (ipykernel)",
   "language": "python",
   "name": "python3"
  },
  "language_info": {
   "codemirror_mode": {
    "name": "ipython",
    "version": 3
   },
   "file_extension": ".py",
   "mimetype": "text/x-python",
   "name": "python",
   "nbconvert_exporter": "python",
   "pygments_lexer": "ipython3",
   "version": "3.9.12"
  }
 },
 "nbformat": 4,
 "nbformat_minor": 5
}
